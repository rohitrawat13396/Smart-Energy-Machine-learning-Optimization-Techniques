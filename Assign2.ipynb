{
  "nbformat": 4,
  "nbformat_minor": 0,
  "metadata": {
    "colab": {
      "name": "Assign2.ipynb",
      "provenance": [],
      "collapsed_sections": []
    },
    "kernelspec": {
      "name": "python3",
      "display_name": "Python 3"
    }
  },
  "cells": [
    {
      "cell_type": "code",
      "metadata": {
        "id": "v2HPIeJodF3f",
        "colab_type": "code",
        "colab": {
          "base_uri": "https://localhost:8080/",
          "height": 34
        },
        "outputId": "2a2e280d-994a-4764-ff82-3595d90b539a"
      },
      "source": [
        "from google.colab import drive\n",
        "drive.mount('/content/gdrive')"
      ],
      "execution_count": 11,
      "outputs": [
        {
          "output_type": "stream",
          "text": [
            "Drive already mounted at /content/gdrive; to attempt to forcibly remount, call drive.mount(\"/content/gdrive\", force_remount=True).\n"
          ],
          "name": "stdout"
        }
      ]
    },
    {
      "cell_type": "code",
      "metadata": {
        "id": "JcPrxgxSdTI3",
        "colab_type": "code",
        "colab": {}
      },
      "source": [
        "import pandas as pd\n",
        "from sklearn.preprocessing import LabelEncoder as le\n",
        "from sklearn.cluster import KMeans\n",
        "import matplotlib.pyplot as plt\n",
        "import numpy as np\n",
        "import seaborn as sns\n",
        "from sklearn import metrics \n",
        "from scipy.spatial.distance import cdist\n",
        "from sklearn.preprocessing import MinMaxScaler\n",
        "from sklearn.model_selection import train_test_split\n",
        "import warnings\n",
        "import cvxpy as cp\n",
        "from cvxopt import solvers, matrix, spdiag, log"
      ],
      "execution_count": 0,
      "outputs": []
    },
    {
      "cell_type": "code",
      "metadata": {
        "id": "0mg-E3KhdaST",
        "colab_type": "code",
        "colab": {}
      },
      "source": [
        "homeB = pd.read_csv(r'/content/gdrive/My Drive/Smart Energy/Assign2/homeB.csv', index_col=\"Date & Time\")\n",
        "homeC = pd.read_csv(r'/content/gdrive/My Drive/Smart Energy/Assign2/homeC.csv', index_col=\"Date & Time\")\n",
        "homeF = pd.read_csv(r'/content/gdrive/My Drive/Smart Energy/Assign2/homeF.csv', index_col=\"Date & Time\")"
      ],
      "execution_count": 0,
      "outputs": []
    },
    {
      "cell_type": "code",
      "metadata": {
        "id": "-h7evxI6IyEB",
        "colab_type": "code",
        "colab": {}
      },
      "source": [
        "homeB_LR = pd.read_csv(r'/content/gdrive/My Drive/Smart Energy/Assign2/homeB_LR.csv', index_col=\"Date & Time\")\n",
        "homeC_LR = pd.read_csv(r'/content/gdrive/My Drive/Smart Energy/Assign2/homeC_LR.csv', index_col=\"Date & Time\")\n",
        "homeF_LR = pd.read_csv(r'/content/gdrive/My Drive/Smart Energy/Assign2/homeF_LR.csv', index_col=\"Date & Time\")"
      ],
      "execution_count": 0,
      "outputs": []
    },
    {
      "cell_type": "markdown",
      "metadata": {
        "id": "on-ZASQTlBqW",
        "colab_type": "text"
      },
      "source": [
        "**Task 1: Solve the offline optimization problem, e.g., using tools CVX in Matlab or Python.** "
      ]
    },
    {
      "cell_type": "code",
      "metadata": {
        "id": "SCjvJx71fSsy",
        "colab_type": "code",
        "colab": {}
      },
      "source": [
        "def offline_optimisation_problem(home, type = 'static', p_t = 0.40,  a = 4,  b = 4):\n",
        "  \n",
        "  obj = 0\n",
        "  y = home.Total_consumption[1:673]\n",
        "\n",
        "  if type == 'static':\n",
        "    x = cp.Variable(1)\n",
        "    for i in range(len(y)):\n",
        "      obj = obj + (p_t*x + a*cp.maximum(0, y.values[i]-x))\n",
        "\n",
        "  elif type == 'dynamic':\n",
        "    x = cp.Variable(672)\n",
        "    for i in range(len(y)):\n",
        "      obj = obj + (p_t*x[i] + a*cp.maximum(0, y.values[i]-x[i]) + b*cp.abs(x[i] - x[i-1]))\n",
        "  \n",
        "  constraints = [0 <= x]\n",
        "  min_obj = cp.Minimize(obj)\n",
        "  problem = cp.Problem(min_obj, constraints) \n",
        "  result = problem.solve() \n",
        "  print(\"Offline Optimization Problem solution for \"+type+\" is: \", result)\n",
        "\n",
        "  return [result, x.value]"
      ],
      "execution_count": 0,
      "outputs": []
    },
    {
      "cell_type": "code",
      "metadata": {
        "id": "DYFbGseaasUU",
        "colab_type": "code",
        "colab": {
          "base_uri": "https://localhost:8080/",
          "height": 170
        },
        "outputId": "d338ebf9-e835-4af0-bbd5-ebbe6764eea9"
      },
      "source": [
        "print(\"For home B:\")\n",
        "[offline_static_result_B,offline_static_x_values_B] = offline_optimisation_problem(homeB,'static', p_t = 0.40,  a = 4,  b = 4)\n",
        "[offline_dynamic_result_B,offline_dynamic_x_values_B] = offline_optimisation_problem(homeB, 'dynamic', p_t = 0.40,  a = 4,  b = 4)\n",
        "print(\"For home C:\")\n",
        "[offline_static_result_C,offline_static_x_values_C] = offline_optimisation_problem(homeC,'static', p_t = 0.40,  a = 4,  b = 4)\n",
        "[offline_dynamic_result_C,offline_dynamic_x_values_C] = offline_optimisation_problem(homeC, 'dynamic', p_t = 0.40,  a = 4,  b = 4)\n",
        "print(\"For home F:\")\n",
        "[offline_static_result_F,offline_static_x_values_F] = offline_optimisation_problem(homeF,'static', p_t = 0.40,  a = 4,  b = 4)\n",
        "[offline_dynamic_result_F,offline_dynamic_x_values_F] = offline_optimisation_problem(homeF, 'dynamic', p_t = 0.40,  a = 4,  b = 4)"
      ],
      "execution_count": 35,
      "outputs": [
        {
          "output_type": "stream",
          "text": [
            "For home B:\n",
            "Offline Optimization Problem solution for static is:  1018.4013103622867\n",
            "Offline Optimization Problem solution for dynamic is:  836.0104660550957\n",
            "For home C:\n",
            "Offline Optimization Problem solution for static is:  1365.6704999799842\n",
            "Offline Optimization Problem solution for dynamic is:  1137.486313296603\n",
            "For home F:\n",
            "Offline Optimization Problem solution for static is:  6286.343226100506\n",
            "Offline Optimization Problem solution for dynamic is:  5232.1411726006945\n"
          ],
          "name": "stdout"
        }
      ]
    },
    {
      "cell_type": "markdown",
      "metadata": {
        "id": "XaOxGvUHlmGr",
        "colab_type": "text"
      },
      "source": [
        "**Task 2(i): Online gradient descent (with different step size)**"
      ]
    },
    {
      "cell_type": "code",
      "metadata": {
        "id": "j3Wj6YtMllUM",
        "colab_type": "code",
        "colab": {}
      },
      "source": [
        "def OGD_online_op(home, p_t = 0.40,  a = 4,  b = 4, step_size_type = 'A'):\n",
        "  obj = 0\n",
        "  # prev_result = float('inf')\n",
        "  y = home.Total_consumption[1:673]\n",
        "  x = [0]*(len(y)+1)\n",
        "\n",
        "  obj = 0\n",
        "  for t in range(len(y)):\n",
        "    if y[t] > x[t]:\n",
        "      if x[t] > x[t-1]:\n",
        "          k = p_t-a+b\n",
        "      else:\n",
        "          k = p_t-a-b\n",
        "    else:\n",
        "        if x[t] > x[t-1]:\n",
        "            k = p_t+b\n",
        "        else:\n",
        "            k = p_t-b;\n",
        "    if step_size_type == 'A':                      #step_size_type = 1/sqrt(t)\n",
        "      x[t+1]  = x[t] - (1/np.sqrt(t+1))*k\n",
        "    elif step_size_type == 'B':                    #step_size_type = 1/(t)\n",
        "      x[t+1]  = x[t] - (1/(t+1))*k\n",
        "    elif step_size_type == 'C':                    #step_size_type = 0.01\n",
        "      x[t+1]  = x[t] - (0.01)*k\n",
        "    elif step_size_type == 'D':                    #step_size_type = 1/672\n",
        "      x[t+1]  = x[t] - (1/672)*k\n",
        "\n",
        "    #x[t+1]  = x[t] - neta_derivative(t,x[t],x[t-1])\n",
        "\n",
        "  for t in range(len(y)):\n",
        "    obj = obj + (p_t*x[t] + a*cp.maximum(0, y.values[t]-x[t]) + b*cp.abs(x[t] - x[t-1]))\n",
        "    \n",
        "\n",
        "  min_obj = cp.Minimize(obj)\n",
        "  problem = cp.Problem(min_obj) \n",
        "  result = problem.solve()\n",
        "  print(\"OGD Optimization Problem solution is: \", result)\n",
        "   \n",
        "  return result\n"
      ],
      "execution_count": 0,
      "outputs": []
    },
    {
      "cell_type": "markdown",
      "metadata": {
        "id": "faFvmKXr3Mlr",
        "colab_type": "text"
      },
      "source": [
        "step_size_type = 'A': 1/sqrt(t)"
      ]
    },
    {
      "cell_type": "code",
      "metadata": {
        "id": "yFsOl1noSrUE",
        "colab_type": "code",
        "colab": {
          "base_uri": "https://localhost:8080/",
          "height": 119
        },
        "outputId": "cda3c53b-13f5-407a-f73b-fc0aced11934"
      },
      "source": [
        "print(\"For Home B,\")\n",
        "OGD_results_B = OGD_online_op(homeB, p_t = 0.40, a =  4, b= 4,step_size_type = 'A')\n",
        "print(\"For Home C,\")\n",
        "OGD_results_C = OGD_online_op(homeC, p_t = 0.40, a =  4, b= 4,step_size_type = 'A')\n",
        "print(\"For Home F,\")\n",
        "OGD_results_F = OGD_online_op(homeF, p_t = 0.40, a =  4, b= 4,step_size_type = 'A')"
      ],
      "execution_count": 53,
      "outputs": [
        {
          "output_type": "stream",
          "text": [
            "For Home B,\n",
            "OGD Optimization Problem solution is:  1892.720581127459\n",
            "For Home C,\n",
            "OGD Optimization Problem solution is:  2143.127367233312\n",
            "For Home F,\n",
            "OGD Optimization Problem solution is:  7521.536038487382\n"
          ],
          "name": "stdout"
        }
      ]
    },
    {
      "cell_type": "markdown",
      "metadata": {
        "id": "pDyx_qQG3rFY",
        "colab_type": "text"
      },
      "source": [
        "step_size_type = 'B': 1/(t)"
      ]
    },
    {
      "cell_type": "code",
      "metadata": {
        "id": "gTHylSw83W6P",
        "colab_type": "code",
        "colab": {
          "base_uri": "https://localhost:8080/",
          "height": 119
        },
        "outputId": "5da0969c-e120-49cd-dfe3-b416a4bf09e3"
      },
      "source": [
        "print(\"For Home B,\")\n",
        "OGD_results_B = OGD_online_op(homeB, p_t = 0.40, a =  4, b= 4,step_size_type = 'B')\n",
        "print(\"For Home C,\")\n",
        "OGD_results_C = OGD_online_op(homeC, p_t = 0.40, a =  4, b= 4,step_size_type = 'B')\n",
        "print(\"For Home F,\")\n",
        "OGD_results_F = OGD_online_op(homeF, p_t = 0.40, a =  4, b= 4,step_size_type = 'B')"
      ],
      "execution_count": 164,
      "outputs": [
        {
          "output_type": "stream",
          "text": [
            "For Home B,\n",
            "OGD Optimization Problem solution is:  1583.378957866783\n",
            "For Home C,\n",
            "OGD Optimization Problem solution is:  1614.6201205975656\n",
            "For Home F,\n",
            "OGD Optimization Problem solution is:  10516.319202234305\n"
          ],
          "name": "stdout"
        }
      ]
    },
    {
      "cell_type": "markdown",
      "metadata": {
        "id": "Lt_NJXyv3uO_",
        "colab_type": "text"
      },
      "source": [
        "step_size_type = 'C': 0.01"
      ]
    },
    {
      "cell_type": "code",
      "metadata": {
        "id": "o9e9MDoO30cG",
        "colab_type": "code",
        "colab": {
          "base_uri": "https://localhost:8080/",
          "height": 119
        },
        "outputId": "632dfa36-bbee-4904-faa0-305bfb85f965"
      },
      "source": [
        "print(\"For Home B,\")\n",
        "OGD_results_B = OGD_online_op(homeB, p_t = 0.40, a =  4, b= 4,step_size_type = 'C')\n",
        "print(\"For Home C,\")\n",
        "OGD_results_C = OGD_online_op(homeC, p_t = 0.40, a =  4, b= 4,step_size_type = 'C')\n",
        "print(\"For Home F,\")\n",
        "OGD_results_F = OGD_online_op(homeF, p_t = 0.40, a =  4, b= 4,step_size_type = 'C')"
      ],
      "execution_count": 165,
      "outputs": [
        {
          "output_type": "stream",
          "text": [
            "For Home B,\n",
            "OGD Optimization Problem solution is:  1244.8327133920006\n",
            "For Home C,\n",
            "OGD Optimization Problem solution is:  1771.6468845240013\n",
            "For Home F,\n",
            "OGD Optimization Problem solution is:  12635.242333375993\n"
          ],
          "name": "stdout"
        }
      ]
    },
    {
      "cell_type": "markdown",
      "metadata": {
        "id": "KOeByrS74GgS",
        "colab_type": "text"
      },
      "source": [
        "step_size_type = 'D': 1/672"
      ]
    },
    {
      "cell_type": "code",
      "metadata": {
        "id": "JjyFmyc_37Sm",
        "colab_type": "code",
        "colab": {
          "base_uri": "https://localhost:8080/",
          "height": 119
        },
        "outputId": "2abb7e1c-1e27-4732-c2fe-0720fdc12fe1"
      },
      "source": [
        "print(\"For Home B,\")\n",
        "OGD_results_B = OGD_online_op(homeB, p_t = 0.40, a =  4, b= 4,step_size_type = 'D')\n",
        "print(\"For Home C,\")\n",
        "OGD_results_C = OGD_online_op(homeC, p_t = 0.40, a =  4, b= 4,step_size_type = 'D')\n",
        "print(\"For Home F,\")\n",
        "OGD_results_F = OGD_online_op(homeF, p_t = 0.40, a =  4, b= 4,step_size_type = 'D')"
      ],
      "execution_count": 166,
      "outputs": [
        {
          "output_type": "stream",
          "text": [
            "For Home B,\n",
            "OGD Optimization Problem solution is:  1744.7828514939033\n",
            "For Home C,\n",
            "OGD Optimization Problem solution is:  2804.8918305921875\n",
            "For Home F,\n",
            "OGD Optimization Problem solution is:  17120.758057329414\n"
          ],
          "name": "stdout"
        }
      ]
    },
    {
      "cell_type": "markdown",
      "metadata": {
        "id": "TCOY4No24Y6_",
        "colab_type": "text"
      },
      "source": [
        "## **Comment about different Step size of OGD for different home:**\n",
        "\n",
        "For Home B, best step size is **step_size_type = 'C': 0.01** with **minimum cost = 1244.8327133920006**\n",
        "\n",
        "For Home C, best step size is **step_size_type = 'B': 1/(t)** with **minimum cost = 1614.6201205975656**\n",
        "\n",
        "For Home F, best step size is **step_size_type = 'A': 1/sqrt(t)** with **minimum cost = 7521.536038487382**"
      ]
    },
    {
      "cell_type": "markdown",
      "metadata": {
        "id": "y-JejvUjDLjH",
        "colab_type": "text"
      },
      "source": [
        "**Task 2(ii):  Receding horizon control (with different prediction window size)**"
      ]
    },
    {
      "cell_type": "code",
      "metadata": {
        "id": "UY_FFcTyqapj",
        "colab_type": "code",
        "colab": {}
      },
      "source": [
        "def control_algo_online_op(home, p_t = 0.40, a = 4, b = 4, predictionHorizon = 5,commitmentHorizon = 1):\n",
        "  \n",
        "  y = home.y_pred[1:]    #Using Predicted Values\n",
        "  result1 = []\n",
        "  optValues = [0]*(len(y))\n",
        "  length = min(672, len(y))\n",
        "  for horizonStart in range(length):\n",
        "    horizonEnd = horizonStart + predictionHorizon\n",
        "    windowY = y[horizonStart: horizonEnd]\n",
        "    \n",
        "    obj = 0\n",
        "    x = cp.Variable(predictionHorizon)\n",
        "\n",
        "    for i in range(predictionHorizon):\n",
        "        obj = obj + p_t*x[i] + a*cp.maximum(0,windowY[i]-x[i]);\n",
        "        if i == 0:\n",
        "            obj = obj + b*cp.abs(x[i])\n",
        "        else:\n",
        "            obj = obj + b*cp.abs(x[i]-x[i-1])\n",
        "            \n",
        "    min_obj = cp.Minimize(obj)\n",
        "    problem = cp.Problem(min_obj) \n",
        "    result1.append(problem.solve())\n",
        "\n",
        "    for i in range(commitmentHorizon):\n",
        "      optValues[horizonStart+i] = optValues[horizonStart+i] + x[i]\n",
        "\n",
        "  optValues = np.dot(optValues,1/commitmentHorizon)\n",
        "\n",
        "  obj = 0\n",
        "  for i in range(length):\n",
        "    obj = obj + p_t*optValues[i] + a*cp.maximum(0,y[i]-optValues[i]);\n",
        "    if i == 0:\n",
        "        obj = obj + b*cp.abs(optValues[i])\n",
        "    else:\n",
        "        obj = obj + b*cp.abs(optValues[i]-optValues[i-1])\n",
        "\n",
        "  min_obj = cp.Minimize(obj)\n",
        "  problem = cp.Problem(min_obj) \n",
        "  result2 = problem.solve()\n",
        "\n",
        "  return [optValues, result2]\n",
        "\n"
      ],
      "execution_count": 0,
      "outputs": []
    },
    {
      "cell_type": "markdown",
      "metadata": {
        "id": "p9Ss_w8OJlTf",
        "colab_type": "text"
      },
      "source": [
        "For ARIMA Model Predictions:"
      ]
    },
    {
      "cell_type": "code",
      "metadata": {
        "id": "stFvmN-mY6kE",
        "colab_type": "code",
        "colab": {
          "base_uri": "https://localhost:8080/",
          "height": 221
        },
        "outputId": "df20934d-9eb8-4860-f2ec-d4826c9d4922"
      },
      "source": [
        "window_size = [3,5,10]\n",
        "for window in window_size:\n",
        "  print(\"For window_size: \", window)\n",
        "  [optimal_values_RHC_B, result_RHC_B] = control_algo_online_op(homeB, p_t = 0.40, a = 4, b = 4, predictionHorizon = window)\n",
        "  print(\"For Home B, RHC Optimization Problem solution is: \", result_RHC_B)\n",
        "  [optimal_values_RHC_C, result_RHC_C] = control_algo_online_op(homeC, p_t = 0.40, a = 4, b = 4, predictionHorizon = window)\n",
        "  print(\"For Home C, RHC Optimization Problem solution is: \", result_RHC_C)\n",
        "  [optimal_values_RHC_F, result_RHC_F] = control_algo_online_op(homeF, p_t = 0.40, a = 4, b = 4, predictionHorizon = window)\n",
        "  print(\"For Home F, RHC Optimization Problem solution is: \", result_RHC_F)"
      ],
      "execution_count": 171,
      "outputs": [
        {
          "output_type": "stream",
          "text": [
            "For window_size:  3\n",
            "For Home B, RHC Optimization Problem solution is:  750.3907458132975\n",
            "For Home C, RHC Optimization Problem solution is:  989.8302788430145\n",
            "For Home F, RHC Optimization Problem solution is:  4551.13984721234\n",
            "For window_size:  5\n",
            "For Home B, RHC Optimization Problem solution is:  750.3907458132975\n",
            "For Home C, RHC Optimization Problem solution is:  989.8302788430145\n",
            "For Home F, RHC Optimization Problem solution is:  4551.13984721234\n",
            "For window_size:  10\n",
            "For Home B, RHC Optimization Problem solution is:  750.3907458132975\n",
            "For Home C, RHC Optimization Problem solution is:  989.8302788430145\n",
            "For Home F, RHC Optimization Problem solution is:  4551.13984721234\n"
          ],
          "name": "stdout"
        }
      ]
    },
    {
      "cell_type": "markdown",
      "metadata": {
        "id": "STMtNzckJ8F7",
        "colab_type": "text"
      },
      "source": [
        "For Linear Regression Model Predictions:"
      ]
    },
    {
      "cell_type": "code",
      "metadata": {
        "id": "lB_KqPtsJTYi",
        "colab_type": "code",
        "colab": {
          "base_uri": "https://localhost:8080/",
          "height": 221
        },
        "outputId": "78bc7f2d-eb4e-4732-db82-b6530696a5ba"
      },
      "source": [
        "window_size = [3,5,10]\n",
        "for window in window_size:\n",
        "  print(\"For window_size: \", window)\n",
        "  [optimal_values_RHC_B_LR, result_RHC_B_LR] = control_algo_online_op(homeB_LR, p_t = 0.40, a = 4, b = 4, predictionHorizon = window)\n",
        "  print(\"For Home B, RHC Optimization Problem solution is: \", result_RHC_B_LR)\n",
        "  [optimal_values_RHC_C_LR, result_RHC_C_LR] = control_algo_online_op(homeC_LR, p_t = 0.40, a = 4, b = 4, predictionHorizon = window)\n",
        "  print(\"For Home C, RHC Optimization Problem solution is: \", result_RHC_C_LR)\n",
        "  [optimal_values_RHC_F_LR, result_RHC_F_LR] = control_algo_online_op(homeF_LR, p_t = 0.40, a = 4, b = 4, predictionHorizon = window)\n",
        "  print(\"For Home F, RHC Optimization Problem solution is: \", result_RHC_F_LR)"
      ],
      "execution_count": 172,
      "outputs": [
        {
          "output_type": "stream",
          "text": [
            "For window_size:  3\n",
            "For Home B, RHC Optimization Problem solution is:  721.894394948552\n",
            "For Home C, RHC Optimization Problem solution is:  1005.4272601940075\n",
            "For Home F, RHC Optimization Problem solution is:  4414.920796928689\n",
            "For window_size:  5\n",
            "For Home B, RHC Optimization Problem solution is:  721.894394948552\n",
            "For Home C, RHC Optimization Problem solution is:  1005.4272601940075\n",
            "For Home F, RHC Optimization Problem solution is:  4414.920796928689\n",
            "For window_size:  10\n",
            "For Home B, RHC Optimization Problem solution is:  721.894394948552\n",
            "For Home C, RHC Optimization Problem solution is:  1005.4272601940075\n",
            "For Home F, RHC Optimization Problem solution is:  4414.920796928689\n"
          ],
          "name": "stdout"
        }
      ]
    },
    {
      "cell_type": "markdown",
      "metadata": {
        "id": "uS-1HZLcAk28",
        "colab_type": "text"
      },
      "source": [
        "## **Comment about Best window_size of RHC:**\n",
        "For ARIMA Predictions:\n",
        "\n",
        "For window_size:  5\n",
        "\n",
        "For Home B, RHC Optimization Problem solution is:  750.3907458132975\n",
        "\n",
        "For Home C, RHC Optimization Problem solution is:  989.8302788430145\n",
        "\n",
        "For Home F, RHC Optimization Problem solution is:  4551.13984721234\n",
        "\n",
        "For Linear Regression Predictions:\n",
        "\n",
        "For window_size:  5\n",
        "\n",
        "For Home B, RHC Optimization Problem solution is:  721.894394948552\n",
        "\n",
        "For Home C, RHC Optimization Problem solution is:  1005.4272601940075\n",
        "\n",
        "For Home F, RHC Optimization Problem solution is:  4414.920796928689"
      ]
    },
    {
      "cell_type": "markdown",
      "metadata": {
        "id": "2s6FVKtzq104",
        "colab_type": "text"
      },
      "source": [
        "**Task 2(iii):  Commitment Horizon control (with different commitment levels)**"
      ]
    },
    {
      "cell_type": "markdown",
      "metadata": {
        "id": "agf2T8z9KME0",
        "colab_type": "text"
      },
      "source": [
        "For ARIMA Model Predictions:"
      ]
    },
    {
      "cell_type": "code",
      "metadata": {
        "id": "Yi6WBdlUiCFp",
        "colab_type": "code",
        "colab": {
          "base_uri": "https://localhost:8080/",
          "height": 221
        },
        "outputId": "e08e8e2c-b5a9-42a8-ea2f-d1c56c6389f0"
      },
      "source": [
        "commitmentHorizon = [3,4,5]\n",
        "for commitment in commitmentHorizon:\n",
        "  print(\"For v: \", commitment)\n",
        "  [optimal_values_CHC_B, result_CHC_B] = control_algo_online_op(homeB, p_t = 0.40, a = 4, b = 4, predictionHorizon = 5, commitmentHorizon= commitment)\n",
        "  print(\"For Home B, CHC Optimization Problem solution is: \", result_CHC_B)\n",
        "  [optimal_values_CHC_C, result_CHC_C] = control_algo_online_op(homeC, p_t = 0.40, a = 4, b = 4, predictionHorizon = 5, commitmentHorizon= commitment)\n",
        "  print(\"For Home C, CHC Optimization Problem solution is: \", result_CHC_C)\n",
        "  [optimal_values_CHC_F, result_CHC_F] = control_algo_online_op(homeF, p_t = 0.40, a = 4, b = 4, predictionHorizon = 5, commitmentHorizon= commitment)\n",
        "  print(\"For Home F, CHC Optimization Problem solution is: \", result_CHC_F)"
      ],
      "execution_count": 173,
      "outputs": [
        {
          "output_type": "stream",
          "text": [
            "For v:  3\n",
            "For Home B, CHC Optimization Problem solution is:  750.3907458133029\n",
            "For Home C, CHC Optimization Problem solution is:  989.8302788430127\n",
            "For Home F, CHC Optimization Problem solution is:  4551.139847212367\n",
            "For v:  4\n",
            "For Home B, CHC Optimization Problem solution is:  750.3907458133042\n",
            "For Home C, CHC Optimization Problem solution is:  989.8302788430152\n",
            "For Home F, CHC Optimization Problem solution is:  4551.139847212363\n",
            "For v:  5\n",
            "For Home B, CHC Optimization Problem solution is:  750.3907458133061\n",
            "For Home C, CHC Optimization Problem solution is:  989.8302788430143\n",
            "For Home F, CHC Optimization Problem solution is:  4551.139847212366\n"
          ],
          "name": "stdout"
        }
      ]
    },
    {
      "cell_type": "markdown",
      "metadata": {
        "id": "zoHnTEWiKIjl",
        "colab_type": "text"
      },
      "source": [
        "For Linear Regression Model Predictions:"
      ]
    },
    {
      "cell_type": "code",
      "metadata": {
        "id": "VzBF2W2mKFlb",
        "colab_type": "code",
        "colab": {
          "base_uri": "https://localhost:8080/",
          "height": 221
        },
        "outputId": "4c3780e3-16a4-407d-d8d9-c7277509503a"
      },
      "source": [
        "commitmentHorizon = [3,4,5]\n",
        "for commitment in commitmentHorizon:\n",
        "  print(\"For v: \", commitment)\n",
        "  [optimal_values_CHC_B_LR, result_CHC_B_LR] = control_algo_online_op(homeB_LR, p_t = 0.40, a = 4, b = 4, predictionHorizon = 5, commitmentHorizon= 3)\n",
        "  print(\"For Home B, CHC Optimization Problem solution is: \", result_CHC_B_LR)\n",
        "  [optimal_values_CHC_C_LR, result_CHC_C_LR] = control_algo_online_op(homeC_LR, p_t = 0.40, a = 4, b = 4, predictionHorizon = 5, commitmentHorizon= 3)\n",
        "  print(\"For Home C, CHC Optimization Problem solution is: \", result_CHC_C_LR)\n",
        "  [optimal_values_CHC_F_LR, result_CHC_F_LR] = control_algo_online_op(homeF_LR, p_t = 0.40, a = 4, b = 4, predictionHorizon = 5, commitmentHorizon= 3)\n",
        "  print(\"For Home F, CHC Optimization Problem solution is: \", result_CHC_F_LR)"
      ],
      "execution_count": 174,
      "outputs": [
        {
          "output_type": "stream",
          "text": [
            "For v:  3\n",
            "For Home B, CHC Optimization Problem solution is:  721.8943949485557\n",
            "For Home C, CHC Optimization Problem solution is:  1005.4272601940361\n",
            "For Home F, CHC Optimization Problem solution is:  4414.920796928767\n",
            "For v:  4\n",
            "For Home B, CHC Optimization Problem solution is:  721.8943949485557\n",
            "For Home C, CHC Optimization Problem solution is:  1005.4272601940361\n",
            "For Home F, CHC Optimization Problem solution is:  4414.920796928767\n",
            "For v:  5\n",
            "For Home B, CHC Optimization Problem solution is:  721.8943949485557\n",
            "For Home C, CHC Optimization Problem solution is:  1005.4272601940361\n",
            "For Home F, CHC Optimization Problem solution is:  4414.920796928767\n"
          ],
          "name": "stdout"
        }
      ]
    },
    {
      "cell_type": "markdown",
      "metadata": {
        "id": "poiyS7lvA-zU",
        "colab_type": "text"
      },
      "source": [
        "## **Comment about Best Commitment Horizon for CHC:**\n",
        "\n",
        "\n",
        "**For ARIMA Predictions:**\n",
        "\n",
        "For v:  3\n",
        "\n",
        "For Home B, CHC Optimization Problem solution is:  750.3907458133029\n",
        "\n",
        "For Home C, CHC Optimization Problem solution is:  989.8302788430127\n",
        "\n",
        "For Home F, CHC Optimization Problem solution is:  4551.139847212367\n",
        "\n",
        "**For Linear Regression Predictions:**\n",
        "\n",
        "For v:  3\n",
        "\n",
        "For Home B, CHC Optimization Problem solution is:  721.8943949485557\n",
        "\n",
        "For Home C, CHC Optimization Problem solution is:  1005.4272601940361\n",
        "\n",
        "For Home F, CHC Optimization Problem solution is:  4414.920796928767"
      ]
    },
    {
      "cell_type": "markdown",
      "metadata": {
        "id": "V4ZvtcYNQNMQ",
        "colab_type": "text"
      },
      "source": [
        "**Task 3: Compare the costs of these algorithms to those of the offline static and dynamic solutions: Calculating Regret**"
      ]
    },
    {
      "cell_type": "markdown",
      "metadata": {
        "id": "XDfT7gCgQ6Bf",
        "colab_type": "text"
      },
      "source": [
        "**Regrets for OGD**"
      ]
    },
    {
      "cell_type": "code",
      "metadata": {
        "id": "CQve69HF__qK",
        "colab_type": "code",
        "colab": {
          "base_uri": "https://localhost:8080/",
          "height": 119
        },
        "outputId": "15b8eae9-0684-4b41-f488-f5121d215d60"
      },
      "source": [
        "print(\"For Home B,\")\n",
        "OGD_results_B = OGD_online_op(homeB, p_t = 0.40, a =  4, b= 4,step_size_type = 'C')\n",
        "print(\"For Home C,\")\n",
        "OGD_results_C = OGD_online_op(homeC, p_t = 0.40, a =  4, b= 4,step_size_type = 'B')\n",
        "print(\"For Home F,\")\n",
        "OGD_results_F = OGD_online_op(homeF, p_t = 0.40, a =  4, b= 4,step_size_type = 'A')"
      ],
      "execution_count": 177,
      "outputs": [
        {
          "output_type": "stream",
          "text": [
            "For Home B,\n",
            "OGD Optimization Problem solution is:  1244.8327133920006\n",
            "For Home C,\n",
            "OGD Optimization Problem solution is:  1614.6201205975656\n",
            "For Home F,\n",
            "OGD Optimization Problem solution is:  7521.536038487382\n"
          ],
          "name": "stdout"
        }
      ]
    },
    {
      "cell_type": "code",
      "metadata": {
        "id": "BJ5trxfYQUn8",
        "colab_type": "code",
        "colab": {
          "base_uri": "https://localhost:8080/",
          "height": 119
        },
        "outputId": "7ce3d5c3-daf8-4f03-bf5a-ad0d2b24ff26"
      },
      "source": [
        "static_regret_OGD_B = OGD_results_B - offline_static_result_B\n",
        "static_regret_OGD_C = OGD_results_C - offline_static_result_C\n",
        "static_regret_OGD_F = OGD_results_F - offline_static_result_F\n",
        "print(\"For Home B, static Regret: \", static_regret_OGD_B)\n",
        "print(\"For Home C, static Regret: \", static_regret_OGD_C)\n",
        "print(\"For Home F, static Regret: \", static_regret_OGD_F)\n",
        "dynamic_regret_OGD_B = OGD_results_B - offline_dynamic_result_B\n",
        "dynamic_regret_OGD_C = OGD_results_C - offline_dynamic_result_C\n",
        "dynamic_regret_OGD_F = OGD_results_F - offline_dynamic_result_F\n",
        "print(\"For Home B, dynamic Regret: \", dynamic_regret_OGD_B)\n",
        "print(\"For Home C, dynamic Regret: \", dynamic_regret_OGD_C)\n",
        "print(\"For Home F, dynamic Regret: \", dynamic_regret_OGD_F)"
      ],
      "execution_count": 178,
      "outputs": [
        {
          "output_type": "stream",
          "text": [
            "For Home B, static Regret:  226.43140302971392\n",
            "For Home C, static Regret:  248.94962061758133\n",
            "For Home F, static Regret:  1235.1928123868756\n",
            "For Home B, dynamic Regret:  408.822247336905\n",
            "For Home C, dynamic Regret:  477.13380730096264\n",
            "For Home F, dynamic Regret:  2289.3948658866875\n"
          ],
          "name": "stdout"
        }
      ]
    },
    {
      "cell_type": "markdown",
      "metadata": {
        "id": "Bul0n7Y4TAne",
        "colab_type": "text"
      },
      "source": [
        "**Regrets for RHC for ARIMA:**"
      ]
    },
    {
      "cell_type": "code",
      "metadata": {
        "id": "YXbg_950S-EA",
        "colab_type": "code",
        "colab": {
          "base_uri": "https://localhost:8080/",
          "height": 119
        },
        "outputId": "3de26653-6944-4d4a-ef1d-4e247a280c35"
      },
      "source": [
        "static_regret_RHC_B = result_RHC_B - offline_static_result_B\n",
        "static_regret_RHC_C = result_RHC_C - offline_static_result_C\n",
        "static_regret_RHC_F = result_RHC_F - offline_static_result_F\n",
        "print(\"For Home B, static Regret: \", static_regret_RHC_B)\n",
        "print(\"For Home C, static Regret: \", static_regret_RHC_C)\n",
        "print(\"For Home F, static Regret: \", static_regret_RHC_F)\n",
        "dynamic_regret_RHC_B = result_RHC_B - offline_dynamic_result_B\n",
        "dynamic_regret_RHC_C = result_RHC_C - offline_dynamic_result_C\n",
        "dynamic_regret_RHC_F = result_RHC_F - offline_dynamic_result_F\n",
        "print(\"For Home B, dynamic Regret: \", dynamic_regret_RHC_B)\n",
        "print(\"For Home C, dynamic Regret: \", dynamic_regret_RHC_C)\n",
        "print(\"For Home F, dynamic Regret: \", dynamic_regret_RHC_F)"
      ],
      "execution_count": 179,
      "outputs": [
        {
          "output_type": "stream",
          "text": [
            "For Home B, static Regret:  -268.01056454898924\n",
            "For Home C, static Regret:  -375.8402211369697\n",
            "For Home F, static Regret:  -1735.2033788881663\n",
            "For Home B, dynamic Regret:  -85.61972024179818\n",
            "For Home C, dynamic Regret:  -147.6560344535884\n",
            "For Home F, dynamic Regret:  -681.0013253883544\n"
          ],
          "name": "stdout"
        }
      ]
    },
    {
      "cell_type": "markdown",
      "metadata": {
        "id": "r4K-KSKNT3sm",
        "colab_type": "text"
      },
      "source": [
        "**Regrets for RHC for Linear Regression:**"
      ]
    },
    {
      "cell_type": "code",
      "metadata": {
        "id": "EDfK-tQfT2iI",
        "colab_type": "code",
        "colab": {
          "base_uri": "https://localhost:8080/",
          "height": 119
        },
        "outputId": "7c57d1e2-28ee-4661-f3bd-55b4aa7decff"
      },
      "source": [
        "static_regret_RHC_B_LR = result_RHC_B_LR - offline_static_result_B\n",
        "static_regret_RHC_C_LR = result_RHC_C_LR - offline_static_result_C\n",
        "static_regret_RHC_F_LR = result_RHC_F_LR - offline_static_result_F\n",
        "print(\"For Home B, static Regret: \", static_regret_RHC_B_LR)\n",
        "print(\"For Home C, static Regret: \", static_regret_RHC_C_LR)\n",
        "print(\"For Home F, static Regret: \", static_regret_RHC_F_LR)\n",
        "dynamic_regret_RHC_B_LR = result_RHC_B_LR - offline_dynamic_result_B\n",
        "dynamic_regret_RHC_C_LR = result_RHC_C_LR - offline_dynamic_result_C\n",
        "dynamic_regret_RHC_F_LR = result_RHC_F_LR - offline_dynamic_result_F\n",
        "print(\"For Home B, dynamic Regret: \", dynamic_regret_RHC_B_LR)\n",
        "print(\"For Home C, dynamic Regret: \", dynamic_regret_RHC_C_LR)\n",
        "print(\"For Home F, dynamic Regret: \", dynamic_regret_RHC_F_LR)"
      ],
      "execution_count": 180,
      "outputs": [
        {
          "output_type": "stream",
          "text": [
            "For Home B, static Regret:  -296.50691541373476\n",
            "For Home C, static Regret:  -360.2432397859767\n",
            "For Home F, static Regret:  -1871.4224291718174\n",
            "For Home B, dynamic Regret:  -114.1160711065437\n",
            "For Home C, dynamic Regret:  -132.05905310259539\n",
            "For Home F, dynamic Regret:  -817.2203756720055\n"
          ],
          "name": "stdout"
        }
      ]
    },
    {
      "cell_type": "markdown",
      "metadata": {
        "id": "KJGlBKiMVHBs",
        "colab_type": "text"
      },
      "source": [
        "**Regrets for CHC for ARIMA:**"
      ]
    },
    {
      "cell_type": "code",
      "metadata": {
        "id": "3KsGkcm6VF9K",
        "colab_type": "code",
        "colab": {
          "base_uri": "https://localhost:8080/",
          "height": 119
        },
        "outputId": "a1f85559-2763-4105-9fa5-5f66e89ffab1"
      },
      "source": [
        "static_regret_CHC_B = result_CHC_B - offline_static_result_B\n",
        "static_regret_CHC_C = result_CHC_C - offline_static_result_C\n",
        "static_regret_CHC_F = result_CHC_F - offline_static_result_F\n",
        "print(\"For Home B, static Regret: \", static_regret_CHC_B)\n",
        "print(\"For Home C, static Regret: \", static_regret_CHC_C)\n",
        "print(\"For Home F, static Regret: \", static_regret_CHC_F)\n",
        "dynamic_regret_CHC_B = result_CHC_B - offline_dynamic_result_B\n",
        "dynamic_regret_CHC_C = result_CHC_C - offline_dynamic_result_C\n",
        "dynamic_regret_CHC_F = result_CHC_F - offline_dynamic_result_F\n",
        "print(\"For Home B, dynamic Regret: \", dynamic_regret_CHC_B)\n",
        "print(\"For Home C, dynamic Regret: \", dynamic_regret_CHC_C)\n",
        "print(\"For Home F, dynamic Regret: \", dynamic_regret_CHC_F)"
      ],
      "execution_count": 181,
      "outputs": [
        {
          "output_type": "stream",
          "text": [
            "For Home B, static Regret:  -268.0105645489806\n",
            "For Home C, static Regret:  -375.84022113696994\n",
            "For Home F, static Regret:  -1735.2033788881408\n",
            "For Home B, dynamic Regret:  -85.61972024178954\n",
            "For Home C, dynamic Regret:  -147.65603445358863\n",
            "For Home F, dynamic Regret:  -681.001325388329\n"
          ],
          "name": "stdout"
        }
      ]
    },
    {
      "cell_type": "markdown",
      "metadata": {
        "id": "l_sjrLZrWh_L",
        "colab_type": "text"
      },
      "source": [
        "**Regrets for CHC for Linear Regression:**"
      ]
    },
    {
      "cell_type": "code",
      "metadata": {
        "id": "_M6cS9HSWuIE",
        "colab_type": "code",
        "colab": {
          "base_uri": "https://localhost:8080/",
          "height": 119
        },
        "outputId": "167ced06-7c2a-4161-8bab-84439d5564be"
      },
      "source": [
        "static_regret_CHC_B_LR = result_CHC_B_LR - offline_static_result_B\n",
        "static_regret_CHC_C_LR = result_CHC_C_LR - offline_static_result_C\n",
        "static_regret_CHC_F_LR = result_CHC_F_LR - offline_static_result_F\n",
        "print(\"For Home B, static Regret: \", static_regret_CHC_B_LR)\n",
        "print(\"For Home C, static Regret: \", static_regret_CHC_C_LR)\n",
        "print(\"For Home F, static Regret: \", static_regret_CHC_F_LR)\n",
        "dynamic_regret_CHC_B_LR = result_CHC_B_LR - offline_dynamic_result_B\n",
        "dynamic_regret_CHC_C_LR = result_CHC_C_LR - offline_dynamic_result_C\n",
        "dynamic_regret_CHC_F_LR = result_CHC_F_LR - offline_dynamic_result_F\n",
        "print(\"For Home B, dynamic Regret: \", dynamic_regret_CHC_B_LR)\n",
        "print(\"For Home C, dynamic Regret: \", dynamic_regret_CHC_C_LR)\n",
        "print(\"For Home F, dynamic Regret: \", dynamic_regret_CHC_F_LR)"
      ],
      "execution_count": 182,
      "outputs": [
        {
          "output_type": "stream",
          "text": [
            "For Home B, static Regret:  -296.506915413731\n",
            "For Home C, static Regret:  -360.24323978594816\n",
            "For Home F, static Regret:  -1871.4224291717392\n",
            "For Home B, dynamic Regret:  -114.11607110653995\n",
            "For Home C, dynamic Regret:  -132.05905310256685\n",
            "For Home F, dynamic Regret:  -817.2203756719273\n"
          ],
          "name": "stdout"
        }
      ]
    },
    {
      "cell_type": "markdown",
      "metadata": {
        "id": "oqrOHSRQYdG6",
        "colab_type": "text"
      },
      "source": [
        "**Task 4: For the best combination of control algorithm and prediction algorithm, vary a and b to see the\n",
        "impacts**"
      ]
    },
    {
      "cell_type": "code",
      "metadata": {
        "id": "sNJnU278Ypzw",
        "colab_type": "code",
        "colab": {}
      },
      "source": [
        "A = [4, 0.1, 1, 5, 10]\n",
        "B = [4, 0.1, 1, 5, 10]"
      ],
      "execution_count": 0,
      "outputs": []
    },
    {
      "cell_type": "code",
      "metadata": {
        "id": "A6lwfj99ZZV6",
        "colab_type": "code",
        "colab": {
          "base_uri": "https://localhost:8080/",
          "height": 1000
        },
        "outputId": "d6201834-f3e9-4f01-9f74-0543bf34237f"
      },
      "source": [
        "for ai in A:\n",
        "  for bi in B:\n",
        "    print(\"For a = \",ai,\"and b = \",bi,\":\")\n",
        "    [_, result_B] = control_algo_online_op(homeB_LR, p_t = 0.40,  a = ai,  b = bi, predictionHorizon = 5, commitmentHorizon=3)  #Linear Regression predictions with CHC\n",
        "    print(\"For Home B, Result of CHC with LR(w=5,v=3): \", result_B)\n",
        "    [_, result_C] = control_algo_online_op(homeC, p_t = 0.40, a = ai,  b = bi, predictionHorizon = 5, commitmentHorizon=3)     #ARIMA predictions with CHC\n",
        "    print(\"For Home C, Result of CHC with ARIMA(w=5,v=3): \", result_C)\n",
        "    [_, result_F] = control_algo_online_op(homeF_LR, p_t = 0.40, a = ai,  b = bi, predictionHorizon = 5, commitmentHorizon=3)  #Linear Regression predictions with CHC\n",
        "    print(\"For Home F, Result of CHC with LR(w=5,v=3): \", result_F)"
      ],
      "execution_count": 188,
      "outputs": [
        {
          "output_type": "stream",
          "text": [
            "For a =  4 and b =  4 :\n",
            "For Home B, Result of CHC with LR(w=5,v=3):  721.8943949485557\n",
            "For Home C, Result of CHC with ARIMA(w=5,v=3):  989.8302788430127\n",
            "For Home F, Result of CHC with LR(w=5,v=3):  4414.920796928767\n",
            "For a =  4 and b =  0.1 :\n",
            "For Home B, Result of CHC with LR(w=5,v=3):  420.8331773104108\n",
            "For Home C, Result of CHC with ARIMA(w=5,v=3):  609.9011831912904\n",
            "For Home F, Result of CHC with LR(w=5,v=3):  2238.5675645420356\n",
            "For a =  4 and b =  1 :\n",
            "For Home B, Result of CHC with LR(w=5,v=3):  545.7380264463891\n",
            "For Home C, Result of CHC with ARIMA(w=5,v=3):  780.3340307005786\n",
            "For Home F, Result of CHC with LR(w=5,v=3):  3033.576477375311\n",
            "For a =  4 and b =  5 :\n",
            "For Home B, Result of CHC with LR(w=5,v=3):  747.7932221815256\n",
            "For Home C, Result of CHC with ARIMA(w=5,v=3):  1015.2364635092357\n",
            "For Home F, Result of CHC with LR(w=5,v=3):  4682.126267785505\n",
            "For a =  4 and b =  10 :\n",
            "For Home B, Result of CHC with LR(w=5,v=3):  837.638343951412\n",
            "For Home C, Result of CHC with ARIMA(w=5,v=3):  1101.1217628408942\n",
            "For Home F, Result of CHC with LR(w=5,v=3):  5250.015810023124\n",
            "For a =  0.1 and b =  4 :\n",
            "For Home B, Result of CHC with LR(w=5,v=3):  -inf\n",
            "For Home C, Result of CHC with ARIMA(w=5,v=3):  -inf\n",
            "For Home F, Result of CHC with LR(w=5,v=3):  -inf\n",
            "For a =  0.1 and b =  0.1 :\n",
            "For Home B, Result of CHC with LR(w=5,v=3):  -inf\n",
            "For Home C, Result of CHC with ARIMA(w=5,v=3):  -inf\n",
            "For Home F, Result of CHC with LR(w=5,v=3):  -inf\n",
            "For a =  0.1 and b =  1 :\n",
            "For Home B, Result of CHC with LR(w=5,v=3):  -inf\n",
            "For Home C, Result of CHC with ARIMA(w=5,v=3):  -inf\n",
            "For Home F, Result of CHC with LR(w=5,v=3):  -inf\n",
            "For a =  0.1 and b =  5 :\n",
            "For Home B, Result of CHC with LR(w=5,v=3):  -inf\n",
            "For Home C, Result of CHC with ARIMA(w=5,v=3):  -inf\n",
            "For Home F, Result of CHC with LR(w=5,v=3):  -inf\n",
            "For a =  0.1 and b =  10 :\n",
            "For Home B, Result of CHC with LR(w=5,v=3):  -inf\n",
            "For Home C, Result of CHC with ARIMA(w=5,v=3):  -inf\n",
            "For Home F, Result of CHC with LR(w=5,v=3):  -inf\n",
            "For a =  1 and b =  4 :\n",
            "For Home B, Result of CHC with LR(w=5,v=3):  545.3279785507018\n",
            "For Home C, Result of CHC with ARIMA(w=5,v=3):  793.0510918826399\n",
            "For Home F, Result of CHC with LR(w=5,v=3):  3588.0623878217643\n",
            "For a =  1 and b =  0.1 :\n",
            "For Home B, Result of CHC with LR(w=5,v=3):  420.8331773916433\n",
            "For Home C, Result of CHC with ARIMA(w=5,v=3):  609.9011832248029\n",
            "For Home F, Result of CHC with LR(w=5,v=3):  2238.5675645476035\n",
            "For a =  1 and b =  1 :\n",
            "For Home B, Result of CHC with LR(w=5,v=3):  503.91139044872847\n",
            "For Home C, Result of CHC with ARIMA(w=5,v=3):  722.2521450741287\n",
            "For Home F, Result of CHC with LR(w=5,v=3):  2833.5289836903075\n",
            "For a =  1 and b =  5 :\n",
            "For Home B, Result of CHC with LR(w=5,v=3):  548.3872879310943\n",
            "For Home C, Result of CHC with ARIMA(w=5,v=3):  801.4005630688853\n",
            "For Home F, Result of CHC with LR(w=5,v=3):  3656.060862314436\n",
            "For a =  1 and b =  10 :\n",
            "For Home B, Result of CHC with LR(w=5,v=3):  557.3396252300887\n",
            "For Home C, Result of CHC with ARIMA(w=5,v=3):  827.1973205498948\n",
            "For Home F, Result of CHC with LR(w=5,v=3):  3742.9447047326084\n",
            "For a =  5 and b =  4 :\n",
            "For Home B, Result of CHC with LR(w=5,v=3):  740.5971952610724\n",
            "For Home C, Result of CHC with ARIMA(w=5,v=3):  1011.9935226843977\n",
            "For Home F, Result of CHC with LR(w=5,v=3):  4485.972115981483\n",
            "For a =  5 and b =  0.1 :\n",
            "For Home B, Result of CHC with LR(w=5,v=3):  420.83317733199686\n",
            "For Home C, Result of CHC with ARIMA(w=5,v=3):  609.901183158015\n",
            "For Home F, Result of CHC with LR(w=5,v=3):  2238.567564531411\n",
            "For a =  5 and b =  1 :\n",
            "For Home B, Result of CHC with LR(w=5,v=3):  545.7380264799542\n",
            "For Home C, Result of CHC with ARIMA(w=5,v=3):  780.3340306750224\n",
            "For Home F, Result of CHC with LR(w=5,v=3):  3033.5764773750784\n",
            "For a =  5 and b =  5 :\n",
            "For Home B, Result of CHC with LR(w=5,v=3):  771.7124418343323\n",
            "For Home C, Result of CHC with ARIMA(w=5,v=3):  1041.86062948538\n",
            "For Home F, Result of CHC with LR(w=5,v=3):  4754.551825436112\n",
            "For a =  5 and b =  10 :\n",
            "For Home B, Result of CHC with LR(w=5,v=3):  871.4009404812368\n",
            "For Home C, Result of CHC with ARIMA(w=5,v=3):  1137.6580642324059\n",
            "For Home F, Result of CHC with LR(w=5,v=3):  5379.936608875502\n",
            "For a =  10 and b =  4 :\n",
            "For Home B, Result of CHC with LR(w=5,v=3):  770.074408512158\n",
            "For Home C, Result of CHC with ARIMA(w=5,v=3):  1054.9902050863695\n",
            "For Home F, Result of CHC with LR(w=5,v=3):  4652.284502577565\n",
            "For a =  10 and b =  0.1 :\n",
            "For Home B, Result of CHC with LR(w=5,v=3):  420.8331773912563\n",
            "For Home C, Result of CHC with ARIMA(w=5,v=3):  609.9011831427594\n",
            "For Home F, Result of CHC with LR(w=5,v=3):  2238.567564538944\n",
            "For a =  10 and b =  1 :\n",
            "For Home B, Result of CHC with LR(w=5,v=3):  545.738026488746\n",
            "For Home C, Result of CHC with ARIMA(w=5,v=3):  780.3340306454302\n",
            "For Home F, Result of CHC with LR(w=5,v=3):  3033.576477373924\n",
            "For a =  10 and b =  5 :\n",
            "For Home B, Result of CHC with LR(w=5,v=3):  817.9714444856073\n",
            "For Home C, Result of CHC with ARIMA(w=5,v=3):  1107.4609384298747\n",
            "For Home F, Result of CHC with LR(w=5,v=3):  4980.379135553549\n",
            "For a =  10 and b =  10 :\n",
            "For Home B, Result of CHC with LR(w=5,v=3):  975.4555370937119\n",
            "For Home C, Result of CHC with ARIMA(w=5,v=3):  1248.294410155931\n",
            "For Home F, Result of CHC with LR(w=5,v=3):  5659.529760635496\n"
          ],
          "name": "stdout"
        }
      ]
    },
    {
      "cell_type": "markdown",
      "metadata": {
        "id": "TGUkPQdGXITq",
        "colab_type": "text"
      },
      "source": [
        "## **Best parameters**\n",
        "\n",
        "•\tBest for home B:\n",
        "\n",
        "    For a = 4 and b = 0.1:\n",
        "\n",
        "    For Home B, Result of CHC with Linear Regression (w=5, v=3):  420.8331773104108\n",
        "\n",
        "•\tBest for home C:\n",
        "\n",
        "    For a = 4 and b = 0.1:\n",
        "\n",
        "    For Home C, Result of CHC with ARIMA(w=5,v=3):  609.9011831912904\n",
        "\n",
        "•\tBest for home F:\n",
        "\n",
        "    For a = 4 and b = 0.1:\n",
        "\n",
        "    For Home F, Result of CHC with LR(w=5,v=3):  2238.5675645420356"
      ]
    },
    {
      "cell_type": "markdown",
      "metadata": {
        "id": "211UunMSejVR",
        "colab_type": "text"
      },
      "source": [
        "**Task 5: Try at least two algorithm selection (one deterministic, one randomized) to see if their\n",
        "performance**"
      ]
    },
    {
      "cell_type": "markdown",
      "metadata": {
        "id": "HcTC2Hd2eoBF",
        "colab_type": "text"
      },
      "source": [
        "**Deterministic: Weighted Majority**"
      ]
    },
    {
      "cell_type": "code",
      "metadata": {
        "id": "0iTvTW9ClHGv",
        "colab_type": "code",
        "colab": {}
      },
      "source": [
        "w = [0.33, 0.33, 0.33]\n",
        "regret = []\n",
        "test_home = homeB[::-1]"
      ],
      "execution_count": 0,
      "outputs": []
    },
    {
      "cell_type": "code",
      "metadata": {
        "id": "yFYpfCcTk2a0",
        "colab_type": "code",
        "colab": {
          "base_uri": "https://localhost:8080/",
          "height": 119
        },
        "outputId": "4e485a3d-b540-4309-8336-a3c6340c35cb"
      },
      "source": [
        "for i in range(4):\n",
        "  regret = []\n",
        "  if i == 0:      \n",
        "    X1 = OGD_online_op(homeB) #OGD\n",
        "    _, X2 = control_algo_online_op(homeB) #RHC\n",
        "    _ , X3 = control_algo_online_op(homeB, commitmentHorizon= 4)  #CHC\n",
        "    test_offline_static,_ = offline_optimisation_problem(homeB, type='static',p_t = 0.4, a = 4, b=4)\n",
        "    regret.append(X1-test_offline_static)\n",
        "    regret.append(X2-test_offline_static)\n",
        "    regret.append(X3-test_offline_static)\n",
        "    w[regret.index(min(regret))] = w[regret.index(min(regret))]+0.10\n",
        "    w[regret.index(max(regret))] = w[regret.index(min(regret))]-0.10\n",
        "  elif i == 1:\n",
        "    test_offline_dynamic,_ = offline_optimisation_problem(homeB, type='dynamic',p_t = 0.4, a = 4, b=4)\n",
        "    regret.append(X1-test_offline_dynamic)\n",
        "    regret.append(X2-test_offline_dynamic)\n",
        "    regret.append(X3-test_offline_dynamic)\n",
        "    w[regret.index(min(regret))] = w[regret.index(min(regret))]+0.10\n",
        "    w[regret.index(max(regret))] = w[regret.index(min(regret))]-0.10\n",
        "  elif i == 2:\n",
        "    X1 = OGD_online_op(test_home) #OGD\n",
        "    _, X2 = control_algo_online_op(test_home) #RHC\n",
        "    _ , X3 = control_algo_online_op(test_home, commitmentHorizon= 4)\n",
        "    test_offline_static,_ = offline_optimisation_problem(test_home, type='static',p_t = 0.4, a = 4, b=4)\n",
        "    regret.append(X1-test_offline_static)\n",
        "    regret.append(X2-test_offline_static)\n",
        "    regret.append(X3-test_offline_static)\n",
        "    w[regret.index(min(regret))] = w[regret.index(min(regret))]+0.10\n",
        "    w[regret.index(max(regret))] = w[regret.index(min(regret))]-0.10\n",
        "  else:\n",
        "    test_offline_dynamic,_ = offline_optimisation_problem(test_home, type='dynamic',p_t = 0.4, a = 4, b=4)\n",
        "    regret.append(X1-test_offline_dynamic)\n",
        "    regret.append(X2-test_offline_dynamic)\n",
        "    regret.append(X3-test_offline_dynamic)\n",
        "    w[regret.index(min(regret))] = w[regret.index(min(regret))]+0.10\n",
        "    w[regret.index(max(regret))] = w[regret.index(min(regret))]-0.10\n",
        "    "
      ],
      "execution_count": 141,
      "outputs": [
        {
          "output_type": "stream",
          "text": [
            "OGD Optimization Problem solution is:  1892.720581127459\n",
            "Offline Optimization Problem solution for static is:  1018.4013103622867\n",
            "Offline Optimization Problem solution for dynamic is:  836.0104660550957\n",
            "OGD Optimization Problem solution is:  1837.2775949715374\n",
            "Offline Optimization Problem solution for static is:  949.3810790959524\n",
            "Offline Optimization Problem solution for dynamic is:  776.0704729923808\n"
          ],
          "name": "stdout"
        }
      ]
    },
    {
      "cell_type": "code",
      "metadata": {
        "id": "4-6YQQGHt_9q",
        "colab_type": "code",
        "colab": {
          "base_uri": "https://localhost:8080/",
          "height": 68
        },
        "outputId": "2741db13-78e6-4397-d120-f4246955799b"
      },
      "source": [
        "print(\"Algorithm Selection Using Weighted Majority:\")\n",
        "print(str(w[0])+\"*OGD + \"+str(w[1])+\"*RHC + \"+str(w[2])+\"*CHC\")\n",
        "print(\"We choose RHC as it has maximum weight: \", w[1])"
      ],
      "execution_count": 142,
      "outputs": [
        {
          "output_type": "stream",
          "text": [
            "Algorithm Selection Using Weighted Majority:\n",
            "0.63*OGD + 0.73*RHC + 0.33*CHC\n",
            "We choose RHC as it has maximum weight:  0.73\n"
          ],
          "name": "stdout"
        }
      ]
    },
    {
      "cell_type": "markdown",
      "metadata": {
        "id": "fUgA_pNAvbfq",
        "colab_type": "text"
      },
      "source": [
        "**Randomized Algorithm Selection**"
      ]
    },
    {
      "cell_type": "code",
      "metadata": {
        "id": "f0D2rVasz2eI",
        "colab_type": "code",
        "colab": {}
      },
      "source": [
        "test_home = homeB[::-1]"
      ],
      "execution_count": 0,
      "outputs": []
    },
    {
      "cell_type": "code",
      "metadata": {
        "id": "37T-h0P6vawp",
        "colab_type": "code",
        "colab": {
          "base_uri": "https://localhost:8080/",
          "height": 221
        },
        "outputId": "ff3d59ee-8abb-4497-e808-97c0df03e88c"
      },
      "source": [
        "winning = [0,0,0]\n",
        "for i in range(4):\n",
        "  regret = []\n",
        "  random_num = np.random.randint(4)\n",
        "  print(random_num)\n",
        "  if random_num == 0:      \n",
        "    X1 = OGD_online_op(homeB) #OGD\n",
        "    _, X2 = control_algo_online_op(homeB) #RHC\n",
        "    _ , X3 = control_algo_online_op(homeB, commitmentHorizon= 4)  #CHC\n",
        "    test_offline_static,_ = offline_optimisation_problem(homeB, type='static',p_t = 0.4, a = 4, b=4)\n",
        "    regret.append(X1-test_offline_static)\n",
        "    regret.append(X2-test_offline_static)\n",
        "    regret.append(X3-test_offline_static)\n",
        "    winning[regret.index(min(regret))] = winning[regret.index(min(regret))]+1\n",
        "  elif random_num == 1:\n",
        "    X1 = OGD_online_op(homeB) #OGD\n",
        "    _, X2 = control_algo_online_op(homeB) #RHC\n",
        "    _ , X3 = control_algo_online_op(homeB, commitmentHorizon= 4)  #CHC\n",
        "    test_offline_dynamic,_ = offline_optimisation_problem(homeB, type='dynamic',p_t = 0.4, a = 4, b=4)\n",
        "    regret.append(X1-test_offline_dynamic)\n",
        "    regret.append(X2-test_offline_dynamic)\n",
        "    regret.append(X3-test_offline_dynamic)\n",
        "    winning[regret.index(min(regret))] = winning[regret.index(min(regret))]+1\n",
        "  elif random_num == 2:\n",
        "    X1 = OGD_online_op(test_home) #OGD\n",
        "    _, X2 = control_algo_online_op(test_home) #RHC\n",
        "    _ , X3 = control_algo_online_op(test_home, commitmentHorizon= 4)\n",
        "    test_offline_static,_ = offline_optimisation_problem(test_home, type='static',p_t = 0.4, a = 4, b=4)\n",
        "    regret.append(X1-test_offline_static)\n",
        "    regret.append(X2-test_offline_static)\n",
        "    regret.append(X3-test_offline_static)\n",
        "    winning[regret.index(min(regret))] = winning[regret.index(min(regret))]+1\n",
        "  else:\n",
        "    X1 = OGD_online_op(test_home) #OGD\n",
        "    _, X2 = control_algo_online_op(test_home) #RHC\n",
        "    _ , X3 = control_algo_online_op(test_home, commitmentHorizon= 4)\n",
        "    test_offline_dynamic,_ = offline_optimisation_problem(test_home, type='dynamic',p_t = 0.4, a = 4, b=4)\n",
        "    regret.append(X1-test_offline_dynamic)\n",
        "    regret.append(X2-test_offline_dynamic)\n",
        "    regret.append(X3-test_offline_dynamic)\n",
        "    winning[regret.index(min(regret))] = winning[regret.index(min(regret))]+1"
      ],
      "execution_count": 160,
      "outputs": [
        {
          "output_type": "stream",
          "text": [
            "0\n",
            "OGD Optimization Problem solution is:  1892.720581127459\n",
            "Offline Optimization Problem solution for static is:  1018.4013103622867\n",
            "2\n",
            "OGD Optimization Problem solution is:  1837.2775949715374\n",
            "Offline Optimization Problem solution for static is:  949.3810790959524\n",
            "2\n",
            "OGD Optimization Problem solution is:  1837.2775949715374\n",
            "Offline Optimization Problem solution for static is:  949.3810790959524\n",
            "3\n",
            "OGD Optimization Problem solution is:  1837.2775949715374\n",
            "Offline Optimization Problem solution for dynamic is:  776.0704729923808\n"
          ],
          "name": "stdout"
        }
      ]
    },
    {
      "cell_type": "code",
      "metadata": {
        "id": "g2e7ysp-yti-",
        "colab_type": "code",
        "colab": {
          "base_uri": "https://localhost:8080/",
          "height": 85
        },
        "outputId": "04f7012b-841f-4b4a-dbe7-56f42340f13d"
      },
      "source": [
        "print(\"Algorithm Selection Using Randomized Maximum Winning\")\n",
        "print(\"Winning of OGD\", winning[0])\n",
        "print(\"Winning of RHC\", winning[1])\n",
        "print(\"Winning of CHC\", winning[2])"
      ],
      "execution_count": 161,
      "outputs": [
        {
          "output_type": "stream",
          "text": [
            "Algorithm Selection Using Randomized Maximum Winning\n",
            "Winning of OGD 0\n",
            "Winning of RHC 4\n",
            "Winning of CHC 0\n"
          ],
          "name": "stdout"
        }
      ]
    },
    {
      "cell_type": "markdown",
      "metadata": {
        "id": "FlffbBboZ4yt",
        "colab_type": "text"
      },
      "source": [
        "# **Bonus**"
      ]
    },
    {
      "cell_type": "markdown",
      "metadata": {
        "id": "ZUyEGsHPZ7-7",
        "colab_type": "text"
      },
      "source": [
        "## **Online Balanced Descent Algorithm:**\n",
        "\n",
        "\n",
        "OBD is one step ahead of OGD as its step sizes varies with time.\n",
        "\n",
        "Reference: https://arxiv.org/pdf/1803.10366.pdf\n",
        "\n",
        "We have already implemented OBD above.\n",
        "\n"
      ]
    },
    {
      "cell_type": "code",
      "metadata": {
        "id": "cB2iaOr3aMrh",
        "colab_type": "code",
        "colab": {}
      },
      "source": [
        "def OBD_online_op(home, p_t = 0.40,  a = 4,  b = 4, step_size_type = 'A'):\n",
        "  obj = 0\n",
        "  # prev_result = float('inf')\n",
        "  y = home.Total_consumption[1:673]\n",
        "  x = [0]*(len(y)+1)\n",
        "\n",
        "  obj = 0\n",
        "  for t in range(len(y)):\n",
        "    if y[t] > x[t]:\n",
        "      if x[t] > x[t-1]:\n",
        "          k = p_t-a+b\n",
        "      else:\n",
        "          k = p_t-a-b\n",
        "    else:\n",
        "        if x[t] > x[t-1]:\n",
        "            k = p_t+b\n",
        "        else:\n",
        "            k = p_t-b;\n",
        "    if step_size_type == 'A':                      #step_size_type = 1/sqrt(t)    Changing with time t\n",
        "      x[t+1]  = x[t] - (1/np.sqrt(t+1))*k\n",
        "    elif step_size_type == 'B':                    #step_size_type = 1/(t)  Changing with time t\n",
        "      x[t+1]  = x[t] - (1/(t+1))*k\n",
        "\n",
        "    #x[t+1]  = x[t] - neta_derivative(t,x[t],x[t-1])\n",
        "\n",
        "  for t in range(len(y)):\n",
        "    obj = obj + (p_t*x[t] + a*cp.maximum(0, y.values[t]-x[t]) + b*cp.abs(x[t] - x[t-1]))\n",
        "    \n",
        "\n",
        "  min_obj = cp.Minimize(obj)\n",
        "  problem = cp.Problem(min_obj) \n",
        "  result = problem.solve()\n",
        "  print(\"OGD Optimization Problem solution is: \", result)\n",
        "   \n",
        "  return result\n"
      ],
      "execution_count": 0,
      "outputs": []
    },
    {
      "cell_type": "code",
      "metadata": {
        "id": "KehdJLjjcB_C",
        "colab_type": "code",
        "colab": {
          "base_uri": "https://localhost:8080/",
          "height": 68
        },
        "outputId": "1c16b774-f280-47dc-e8bf-c3773b929486"
      },
      "source": [
        "result_OBD_B = OBD_online_op(homeB)\n",
        "result_OBD_C = OBD_online_op(homeC)\n",
        "result_OBD_F = OBD_online_op(homeF)"
      ],
      "execution_count": 192,
      "outputs": [
        {
          "output_type": "stream",
          "text": [
            "OGD Optimization Problem solution is:  1892.720581127459\n",
            "OGD Optimization Problem solution is:  2143.127367233312\n",
            "OGD Optimization Problem solution is:  7521.536038487382\n"
          ],
          "name": "stdout"
        }
      ]
    },
    {
      "cell_type": "markdown",
      "metadata": {
        "id": "0ABBC4ydcysl",
        "colab_type": "text"
      },
      "source": [
        "### **Regrets of OBD:**"
      ]
    },
    {
      "cell_type": "code",
      "metadata": {
        "id": "cK_IdFyuccNy",
        "colab_type": "code",
        "colab": {
          "base_uri": "https://localhost:8080/",
          "height": 119
        },
        "outputId": "cfc5f57d-1428-4510-bfdb-868a1eb2c04e"
      },
      "source": [
        "static_regret_OGD_B = result_OBD_B - offline_static_result_B\n",
        "static_regret_OGD_C = result_OBD_C - offline_static_result_C\n",
        "static_regret_OGD_F = result_OBD_F - offline_static_result_F\n",
        "print(\"For Home B, static Regret: \", static_regret_OGD_B)\n",
        "print(\"For Home C, static Regret: \", static_regret_OGD_C)\n",
        "print(\"For Home F, static Regret: \", static_regret_OGD_F)\n",
        "dynamic_regret_OGD_B = result_OBD_B - offline_dynamic_result_B\n",
        "dynamic_regret_OGD_C = result_OBD_C - offline_dynamic_result_C\n",
        "dynamic_regret_OGD_F = result_OBD_F - offline_dynamic_result_F\n",
        "print(\"For Home B, dynamic Regret: \", dynamic_regret_OGD_B)\n",
        "print(\"For Home C, dynamic Regret: \", dynamic_regret_OGD_C)\n",
        "print(\"For Home F, dynamic Regret: \", dynamic_regret_OGD_F)"
      ],
      "execution_count": 193,
      "outputs": [
        {
          "output_type": "stream",
          "text": [
            "For Home B, static Regret:  874.3192707651722\n",
            "For Home C, static Regret:  777.4568672533276\n",
            "For Home F, static Regret:  1235.1928123868756\n",
            "For Home B, dynamic Regret:  1056.7101150723634\n",
            "For Home C, dynamic Regret:  1005.6410539367089\n",
            "For Home F, dynamic Regret:  2289.3948658866875\n"
          ],
          "name": "stdout"
        }
      ]
    },
    {
      "cell_type": "markdown",
      "metadata": {
        "id": "kiJWVQDldDbh",
        "colab_type": "text"
      },
      "source": [
        "## **Another Algorithm selection Method**"
      ]
    },
    {
      "cell_type": "markdown",
      "metadata": {
        "id": "Ja2xugaUdmO5",
        "colab_type": "text"
      },
      "source": [
        "Based on Regret Factor as scale, we can generate new algorithm Selector. In this **Randomized method**, we allocate few keys to all the three algorithms and then we generate a random number if that matches with the key of the algorithm then we going to increase the wins for that algorithm."
      ]
    },
    {
      "cell_type": "code",
      "metadata": {
        "id": "4NsiO3e8dZ-q",
        "colab_type": "code",
        "colab": {}
      },
      "source": [
        "#OGD = 0, #OBD = 1 #RHC = 2 #CHC  = 3 \n",
        "rand_dict = {'OGD': 0, 'OBD': 0, 'RHC':0,'CHC' : 0 }"
      ],
      "execution_count": 0,
      "outputs": []
    },
    {
      "cell_type": "code",
      "metadata": {
        "id": "QcEyS6BuezQr",
        "colab_type": "code",
        "colab": {
          "base_uri": "https://localhost:8080/",
          "height": 34
        },
        "outputId": "609c9bb7-9548-4c53-b9b4-6ae531a955d8"
      },
      "source": [
        "i = 1\n",
        "while(i<1000):\n",
        "  random_number = np.random.randint(4)\n",
        "  if random_number == 0:\n",
        "    rand_dict['OGD'] += 1\n",
        "  elif random_number == 1:\n",
        "    rand_dict['OBD'] += 1\n",
        "  elif random_number == 2:\n",
        "    rand_dict['RHC'] += 1\n",
        "  else:\n",
        "    rand_dict['CHC'] += 1\n",
        "  i += 1\n",
        "print(rand_dict)"
      ],
      "execution_count": 204,
      "outputs": [
        {
          "output_type": "stream",
          "text": [
            "{'OGD': 287, 'OBD': 296, 'RHC': 330, 'CHC': 288}\n"
          ],
          "name": "stdout"
        }
      ]
    },
    {
      "cell_type": "markdown",
      "metadata": {
        "id": "IRPreZfnhX3t",
        "colab_type": "text"
      },
      "source": [
        "So, after 1000 trials, RHC got maximum wins. Thus, it will be chosen randomly."
      ]
    }
  ]
}